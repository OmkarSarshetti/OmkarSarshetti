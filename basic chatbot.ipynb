{
 "cells": [
  {
   "cell_type": "code",
   "execution_count": 1,
   "id": "6f3a7e0e",
   "metadata": {},
   "outputs": [
    {
     "name": "stdout",
     "output_type": "stream",
     "text": [
      "Enter 0 if you want to end the conversation.\n",
      "Enter your msg: hi\n",
      "Bot:  hello, welcome to SAI restaurant how can I help you?\n",
      "Enter your msg: 0\n",
      "Bot:  Thank you for visiting, please do leave a feedback.\n"
     ]
    }
   ],
   "source": [
    "dict = {\"hi\":\"hello, welcome to SAI restaurant how can I help you?\",\n",
    "        \"I need help\":\"yeah, sure feel free to ask!\",\n",
    "        \"What would you recommend to eat?\":\"I would reccomend you to try our special thali. We serve one of the best thalis in the region.\",\n",
    "       \"0\":\"Thank you for visiting, please do leave a feedback.\"}\n",
    "\n",
    "print(\"Enter 0 if you want to end the conversation.\")\n",
    "while True:\n",
    "    user = input(\"Enter your msg: \")\n",
    "    if user in dict:\n",
    "        if user==\"0\":\n",
    "            print(\"Bot: \",dict[user])\n",
    "            break\n",
    "        else:    \n",
    "            print(\"Bot: \",dict[user])"
   ]
  },
  {
   "cell_type": "code",
   "execution_count": null,
   "id": "31e43ddc",
   "metadata": {},
   "outputs": [],
   "source": []
  },
  {
   "cell_type": "code",
   "execution_count": null,
   "id": "778a72d5",
   "metadata": {},
   "outputs": [],
   "source": []
  }
 ],
 "metadata": {
  "kernelspec": {
   "display_name": "Python 3",
   "language": "python",
   "name": "python3"
  },
  "language_info": {
   "codemirror_mode": {
    "name": "ipython",
    "version": 3
   },
   "file_extension": ".py",
   "mimetype": "text/x-python",
   "name": "python",
   "nbconvert_exporter": "python",
   "pygments_lexer": "ipython3",
   "version": "3.8.8"
  }
 },
 "nbformat": 4,
 "nbformat_minor": 5
}
